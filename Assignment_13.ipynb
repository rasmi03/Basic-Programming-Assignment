{
 "cells": [
  {
   "cell_type": "markdown",
   "id": "28902a0b",
   "metadata": {},
   "source": [
    "### 1.Write a program that calculates and prints the value according to the given formula:\n",
    "    Q = Square root of [(2 * C * D)/H]\n",
    "    Following are the fixed values of C and H:\n",
    "    C is 50. H is 30.\n",
    "    D is the variable whose values should be input to your program in a comma-separated sequence.\n",
    "    Example: Let us assume the following comma separated input sequence is given to the program:100,150,180\n",
    "    The output of the program should be: 18,22,24"
   ]
  },
  {
   "cell_type": "code",
   "execution_count": 1,
   "id": "008d5e84",
   "metadata": {},
   "outputs": [
    {
     "name": "stdout",
     "output_type": "stream",
     "text": [
      "Enter values:\n",
      "100 ,150, 180\n",
      "Output:\n",
      "18,22,24,"
     ]
    }
   ],
   "source": [
    "D = [int(i) for i in input(\"Enter values:\\n\").split(',')]\n",
    "C = 50\n",
    "H = 30\n",
    "E = []\n",
    "for j in range(0,len(D)):\n",
    "    Q = ((2*C*D[j])/H)**0.5\n",
    "    E.append(Q)\n",
    "print(\"Output:\")\n",
    "for k in range(0,len(E)):\n",
    "    print(int(E[k]), end = \",\")"
   ]
  },
  {
   "cell_type": "markdown",
   "id": "c9df2637",
   "metadata": {},
   "source": [
    "### 2.Write a program which takes 2 digits, X,Y as input and generates a 2-dimensional array. The element value in the i-th row and j-th column of the array should be i*j.\n",
    "    Note: i=0,1.., X-1; j=0,1,¡Y-1.\n",
    "    Example: Suppose the following inputs are given to the program: 3,5\n",
    "    Then, the output of the program should be:[[0, 0, 0, 0, 0], [0, 1, 2, 3, 4], [0, 2, 4, 6, 8]]"
   ]
  },
  {
   "cell_type": "code",
   "execution_count": 2,
   "id": "04830e71",
   "metadata": {},
   "outputs": [
    {
     "name": "stdout",
     "output_type": "stream",
     "text": [
      "Enter no of rows: 3\n",
      "Enter no of columns: 5\n",
      "[0, 0, 0, 0, 0]\n",
      "[0, 1, 2, 3, 4]\n",
      "[0, 2, 4, 6, 8]\n"
     ]
    }
   ],
   "source": [
    "x = int(input(\"Enter no of rows: \"))\n",
    "y = int(input(\"Enter no of columns: \"))\n",
    "mat = []\n",
    "for i in range(x):\n",
    "    row = []\n",
    "    for j in range(y):\n",
    "        row.append(i*j)\n",
    "    mat.append(row)\n",
    "    print(row)\n"
   ]
  },
  {
   "cell_type": "code",
   "execution_count": 3,
   "id": "e557bf13",
   "metadata": {},
   "outputs": [
    {
     "name": "stdout",
     "output_type": "stream",
     "text": [
      "[[0, 0, 0, 0, 0], [0, 1, 2, 3, 4], [0, 2, 4, 6, 8]]\n"
     ]
    }
   ],
   "source": [
    "print(mat)"
   ]
  },
  {
   "cell_type": "markdown",
   "id": "61460eff",
   "metadata": {},
   "source": [
    "### 3.Write a program that accepts a comma separated sequence of words as input and prints the words in a comma-separated sequence after sorting them alphabetically ?\n",
    "    Suppose the following input is supplied to the program: without,hello,bag,world\n",
    "    Then, the output should be: bag,hello,without,world"
   ]
  },
  {
   "cell_type": "code",
   "execution_count": 4,
   "id": "66c7de1b",
   "metadata": {},
   "outputs": [
    {
     "name": "stdout",
     "output_type": "stream",
     "text": [
      "Enter values:\n",
      " without,hello,bag,world\n",
      " without,bag,hello,world,"
     ]
    }
   ],
   "source": [
    "strings = [str(i) for i in input(\"Enter values:\\n\").split(',')]\n",
    "strings.sort()\n",
    "for k in strings:\n",
    "    print(k, end = \",\")\n",
    "    "
   ]
  },
  {
   "cell_type": "markdown",
   "id": "d44cfc63",
   "metadata": {},
   "source": [
    "### 4.Write a program that accepts a sequence of whitespace separated words as input and prints the words after removing all duplicate words and sorting them alphanumerically.\n",
    "    Suppose the following input is supplied to the program: hello world and practice makes perfect and hello world again\n",
    "    Then, the output should be: again and hello makes perfect practice world"
   ]
  },
  {
   "cell_type": "code",
   "execution_count": 5,
   "id": "3266615c",
   "metadata": {},
   "outputs": [
    {
     "name": "stdout",
     "output_type": "stream",
     "text": [
      "Enter words:\n",
      "hello world and practice makes perfect and hello world again\n",
      "\n",
      "Alphanumerically sorted words are as follows:\n",
      "again and hello makes perfect practice world "
     ]
    }
   ],
   "source": [
    "words = [str(i) for i in input(\"Enter words:\\n\").split(' ')]\n",
    "words.sort()\n",
    "c = []\n",
    "for k in words:\n",
    "    c.append(k)\n",
    "\n",
    "alphanum = []\n",
    "for i in c:\n",
    "    if i not in alphanum:\n",
    "        alphanum.append(i)\n",
    "print()\n",
    "print(\"Alphanumerically sorted words are as follows:\")\n",
    "for j in alphanum:\n",
    "    print(j,end = \" \")"
   ]
  },
  {
   "cell_type": "markdown",
   "id": "0f94be42",
   "metadata": {},
   "source": [
    "### 5.Write a program that accepts a sentence and calculate the number of letters and digits.\n",
    "    Suppose the following input is supplied to the program: hello world! 123\n",
    "    Then, the output should be:\n",
    "    LETTERS 10\n",
    "    DIGITS 3"
   ]
  },
  {
   "cell_type": "code",
   "execution_count": 7,
   "id": "24af5f0d",
   "metadata": {},
   "outputs": [
    {
     "name": "stdout",
     "output_type": "stream",
     "text": [
      "Enter sentense: hello world! 123\n",
      "LETTERS 10 \n",
      " DIGITS 3\n"
     ]
    }
   ],
   "source": [
    "sentence = str(input(\"Enter sentense: \"))\n",
    "letters = 0\n",
    "digits = 0\n",
    "\n",
    "for i in sentence:\n",
    "    if i.isalpha():\n",
    "        letters = letters+1\n",
    "    elif i.isdigit():\n",
    "        digits = digits+1\n",
    "    else:\n",
    "        pass\n",
    "     \n",
    "print(\"LETTERS {} \\n DIGITS {}\".format(letters,digits))"
   ]
  },
  {
   "cell_type": "markdown",
   "id": "2173f5c9",
   "metadata": {},
   "source": [
    "### 6.A website requires the users to input username and password to register. Write a program to check the validity of password input by users.\n",
    "    Following are the criteria for checking the password:\n",
    "\n",
    "    1.At least 1 letter between [a-z]\n",
    "    2.At least 1 number between [0-9]\n",
    "    3.At least 1 letter between [A-Z]\n",
    "    4.At least 1 character from [$#@]\n",
    "    5.Minimum length of transaction password: 6\n",
    "    6.Maximum length of transaction password: 12\n",
    "    Your program should accept a sequence of comma separated passwords and will check them according to the above criteria.\n",
    "    Passwords that match the criteria are to be printed, each separated by a comma.\n",
    "\n",
    "    Example:\n",
    "    If the following passwords are given as input to the program: ABd1234@1,a F1#,2w3E*,2We3345\n",
    "    Then, the output of the program should be:ABd1234@1"
   ]
  },
  {
   "cell_type": "code",
   "execution_count": 8,
   "id": "dffba06c",
   "metadata": {},
   "outputs": [
    {
     "name": "stdout",
     "output_type": "stream",
     "text": [
      "Enter passwords:\n",
      "ABd1234@1,a F1#,2w3E*,2We3345\n",
      "\n",
      "Correct password is: \n",
      "ABd1234@1 "
     ]
    }
   ],
   "source": [
    "passwords = [str(i) for i in input(\"Enter passwords:\\n\").split(\",\")]\n",
    "spl_char = [\"$\",\"#\",\"@\"]\n",
    "correctpass = []\n",
    "for i in passwords:\n",
    "    if (len(i)<6 or len(i)>12):\n",
    "        continue\n",
    "    if (i.isupper() or i.islower()):\n",
    "        continue\n",
    "    num = any(j.isdigit() for j in i)\n",
    "    if (not num):\n",
    "        continue\n",
    "    spl = any(j in spl_char for j in i)\n",
    "    if (not spl):\n",
    "        continue\n",
    "    \n",
    "    correctpass.append(i)\n",
    "print()\n",
    "print(\"Correct password is: \")\n",
    "for k in correctpass:\n",
    "    print(k,end = \" \")\n",
    "        "
   ]
  },
  {
   "cell_type": "code",
   "execution_count": null,
   "id": "6c5a45c3",
   "metadata": {},
   "outputs": [],
   "source": []
  }
 ],
 "metadata": {
  "kernelspec": {
   "display_name": "Python 3",
   "language": "python",
   "name": "python3"
  },
  "language_info": {
   "codemirror_mode": {
    "name": "ipython",
    "version": 3
   },
   "file_extension": ".py",
   "mimetype": "text/x-python",
   "name": "python",
   "nbconvert_exporter": "python",
   "pygments_lexer": "ipython3",
   "version": "3.8.8"
  }
 },
 "nbformat": 4,
 "nbformat_minor": 5
}
