{
 "cells": [
  {
   "cell_type": "markdown",
   "id": "69291ff5",
   "metadata": {},
   "source": [
    "### Q1. Python Program to Find LCM"
   ]
  },
  {
   "cell_type": "code",
   "execution_count": 2,
   "id": "bac2fe5e",
   "metadata": {},
   "outputs": [],
   "source": [
    "def lcm(num_1,num_2):\n",
    "    if num_1>num_2:\n",
    "        max = num_1\n",
    "    else:\n",
    "        max = num_2\n",
    "    while True:\n",
    "        if max%num_1==0 and max%num_2==0:\n",
    "            print(\"LCM of {} and {} is {}\".format(num_1, num_2, max))\n",
    "            break\n",
    "        max = max+1"
   ]
  },
  {
   "cell_type": "code",
   "execution_count": 4,
   "id": "71ae1f48",
   "metadata": {},
   "outputs": [
    {
     "name": "stdout",
     "output_type": "stream",
     "text": [
      "LCM of 9 and 10 is 90\n"
     ]
    }
   ],
   "source": [
    "lcm(9,10)"
   ]
  },
  {
   "cell_type": "markdown",
   "id": "bbdb82e1",
   "metadata": {},
   "source": [
    "### Q2. Python Program to Find HCF"
   ]
  },
  {
   "cell_type": "code",
   "execution_count": 5,
   "id": "510ec76f",
   "metadata": {},
   "outputs": [],
   "source": [
    "def calculate_hcf(x, y):  \n",
    "    if x > y:  \n",
    "        smaller = y  \n",
    "    else:  \n",
    "        smaller = x  \n",
    "    for i in range(1,smaller + 1):  \n",
    "        if((x % i == 0) and (y % i == 0)):  \n",
    "            hcf = i  \n",
    "    return hcf  "
   ]
  },
  {
   "cell_type": "code",
   "execution_count": 6,
   "id": "0147a826",
   "metadata": {},
   "outputs": [
    {
     "data": {
      "text/plain": [
       "5"
      ]
     },
     "execution_count": 6,
     "metadata": {},
     "output_type": "execute_result"
    }
   ],
   "source": [
    "calculate_hcf(25,5)"
   ]
  },
  {
   "cell_type": "markdown",
   "id": "74cc50a0",
   "metadata": {},
   "source": [
    "### Q3. Convert Decimal to Binary, Octal and Hexadecimal"
   ]
  },
  {
   "cell_type": "code",
   "execution_count": 7,
   "id": "713e041a",
   "metadata": {},
   "outputs": [
    {
     "name": "stdout",
     "output_type": "stream",
     "text": [
      "Enter Decimal Number: 25\n",
      "Decimal to Binary:  0b11001\n",
      "Decimal to Octal:  0o31\n",
      "Decimal to Hexadecimal:  0x19\n"
     ]
    }
   ],
   "source": [
    "num = int(input(\"Enter Decimal Number: \"))\n",
    "print(\"Decimal to Binary: \",bin(num))\n",
    "print(\"Decimal to Octal: \",oct(num))\n",
    "print(\"Decimal to Hexadecimal: \",hex(num))"
   ]
  },
  {
   "cell_type": "markdown",
   "id": "ef6a5dec",
   "metadata": {},
   "source": [
    "### Q4. Find ASCII value of a character"
   ]
  },
  {
   "cell_type": "code",
   "execution_count": 8,
   "id": "b33a58b6",
   "metadata": {},
   "outputs": [
    {
     "data": {
      "text/plain": [
       "65"
      ]
     },
     "execution_count": 8,
     "metadata": {},
     "output_type": "execute_result"
    }
   ],
   "source": [
    "def ascii_value(character):\n",
    "    return ord(character)\n",
    "\n",
    "ascii_value(\"A\")\n"
   ]
  },
  {
   "cell_type": "markdown",
   "id": "da303c0b",
   "metadata": {},
   "source": [
    "### Q5. Make a Simple Calculator with 4 basic mathematical operations"
   ]
  },
  {
   "cell_type": "code",
   "execution_count": 9,
   "id": "464988f1",
   "metadata": {},
   "outputs": [],
   "source": [
    "def calculator(a,b):\n",
    "    ops = str(input(\"What operation would you like to perform: \"))\n",
    "    if ops == \"add\":\n",
    "        print(\"{} + {} = {}\".format(a,b,a+b))\n",
    "    elif ops == \"substract\":\n",
    "        print(\"{} - {} = {}\".format(a,b,a-b))\n",
    "    elif ops == \"multiply\":\n",
    "        print(\"{} X {} = {}\".format(a,b,a*b))\n",
    "    elif ops == \"division\":\n",
    "        print(\"{} / {} = {}\".format(a,b,a/b))\n",
    "    else:\n",
    "        print(\"Enter correct operation\")\n",
    "        "
   ]
  },
  {
   "cell_type": "code",
   "execution_count": 10,
   "id": "91714d0d",
   "metadata": {},
   "outputs": [
    {
     "name": "stdout",
     "output_type": "stream",
     "text": [
      "What operation would you like to perform: add\n",
      "35 + 9 = 44\n"
     ]
    }
   ],
   "source": [
    "calculator(35,9)"
   ]
  },
  {
   "cell_type": "code",
   "execution_count": 11,
   "id": "0e29d86c",
   "metadata": {},
   "outputs": [
    {
     "name": "stdout",
     "output_type": "stream",
     "text": [
      "What operation would you like to perform: multiply\n",
      "35 X 9 = 315\n"
     ]
    }
   ],
   "source": [
    "calculator(35,9)"
   ]
  },
  {
   "cell_type": "code",
   "execution_count": null,
   "id": "31436c6e",
   "metadata": {},
   "outputs": [],
   "source": []
  }
 ],
 "metadata": {
  "kernelspec": {
   "display_name": "Python 3",
   "language": "python",
   "name": "python3"
  },
  "language_info": {
   "codemirror_mode": {
    "name": "ipython",
    "version": 3
   },
   "file_extension": ".py",
   "mimetype": "text/x-python",
   "name": "python",
   "nbconvert_exporter": "python",
   "pygments_lexer": "ipython3",
   "version": "3.8.8"
  }
 },
 "nbformat": 4,
 "nbformat_minor": 5
}
