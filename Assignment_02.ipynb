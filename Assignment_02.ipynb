{
 "cells": [
  {
   "cell_type": "markdown",
   "id": "98efa51b",
   "metadata": {},
   "source": [
    "### Q1-convert kilometers to miles?"
   ]
  },
  {
   "cell_type": "code",
   "execution_count": 1,
   "id": "e3195456",
   "metadata": {},
   "outputs": [
    {
     "name": "stdout",
     "output_type": "stream",
     "text": [
      "Enter Kilometer: 25\n",
      "Meters =  15.5\n"
     ]
    }
   ],
   "source": [
    "\n",
    "kilometer = int(input(\"Enter Kilometer: \"))\n",
    "meters = kilometer*0.62     # conversation Formula\n",
    "print(\"Meters = \" , meters)"
   ]
  },
  {
   "cell_type": "markdown",
   "id": "68c49d2b",
   "metadata": {},
   "source": [
    "### Q2-convert Celsius to Fahrenheit?"
   ]
  },
  {
   "cell_type": "code",
   "execution_count": 3,
   "id": "bfc22daf",
   "metadata": {},
   "outputs": [
    {
     "name": "stdout",
     "output_type": "stream",
     "text": [
      "Enter celcius: 56\n",
      "132.8\n"
     ]
    }
   ],
   "source": [
    "\n",
    "celcius = float(input(\"Enter celcius: \"))\n",
    "Fahrenheit = (celcius * (9/5)) + 32   # conversation Formula\n",
    "print(Fahrenheit)"
   ]
  },
  {
   "cell_type": "markdown",
   "id": "55e6ff3b",
   "metadata": {},
   "source": [
    "### Q3-display calendar?"
   ]
  },
  {
   "cell_type": "code",
   "execution_count": 5,
   "id": "4f017c5d",
   "metadata": {},
   "outputs": [
    {
     "name": "stdout",
     "output_type": "stream",
     "text": [
      "Enter year = 2021\n",
      "Enter month in number = 6\n",
      "     June 2021\n",
      "Mo Tu We Th Fr Sa Su\n",
      "    1  2  3  4  5  6\n",
      " 7  8  9 10 11 12 13\n",
      "14 15 16 17 18 19 20\n",
      "21 22 23 24 25 26 27\n",
      "28 29 30\n",
      "\n"
     ]
    }
   ],
   "source": [
    "\n",
    "import calendar\n",
    "yy = int(input(\"Enter year = \"))\n",
    "mm = int(input(\"Enter month in number = \"))\n",
    "print(calendar.month(yy,mm))  "
   ]
  },
  {
   "cell_type": "markdown",
   "id": "15d6b6a7",
   "metadata": {},
   "source": [
    "### Q4-solve quadratic equation?"
   ]
  },
  {
   "cell_type": "code",
   "execution_count": 10,
   "id": "d7d590f4",
   "metadata": {},
   "outputs": [
    {
     "name": "stdout",
     "output_type": "stream",
     "text": [
      "Enter a = 4\n",
      "Enter b = 16\n",
      "Enter c = 5\n",
      "(-0.3416876048223001+0j) , (-3.6583123951777+0j)\n"
     ]
    }
   ],
   "source": [
    "\n",
    "#Formula-  x= -b +- sqrt(b**2-4ac)/2*a\n",
    "import cmath\n",
    "a=int(input(\"Enter a = \"))\n",
    "b=int(input(\"Enter b = \"))\n",
    "c=int(input(\"Enter c = \"))\n",
    "discriminant = (b**2)-(4*a*c)\n",
    "sol_1 = (-b+cmath.sqrt(discriminant))/(2*a)\n",
    "sol_2 = (-b-cmath.sqrt(discriminant))/(2*a)\n",
    "print(sol_1 ,\",\", sol_2)"
   ]
  },
  {
   "cell_type": "markdown",
   "id": "5e255152",
   "metadata": {},
   "source": [
    "### Q5-swap two variables without temp variable?"
   ]
  },
  {
   "cell_type": "code",
   "execution_count": 11,
   "id": "99abab1d",
   "metadata": {},
   "outputs": [
    {
     "name": "stdout",
     "output_type": "stream",
     "text": [
      "Enter 1st number :- 23\n",
      "Enter 2nd number :- 35\n",
      "Before Swap :\n",
      "first_var: 23\n",
      "second_var: 35 \n",
      "After Swap :\n",
      "first_var: 35\n",
      "second_var: 23 \n"
     ]
    }
   ],
   "source": [
    "\n",
    "\n",
    "first_var = int(input(\"Enter 1st number :- \"))\n",
    "second_var = int(input(\"Enter 2nd number :- \"))\n",
    "print(\"Before Swap :\\nfirst_var: {}\\nsecond_var: {} \".format(first_var , second_var))\n",
    "first_var,second_var=second_var,first_var\n",
    "print(\"After Swap :\\nfirst_var: {}\\nsecond_var: {} \".format(first_var , second_var))"
   ]
  },
  {
   "cell_type": "code",
   "execution_count": null,
   "id": "8401c393",
   "metadata": {},
   "outputs": [],
   "source": []
  }
 ],
 "metadata": {
  "kernelspec": {
   "display_name": "Python 3",
   "language": "python",
   "name": "python3"
  },
  "language_info": {
   "codemirror_mode": {
    "name": "ipython",
    "version": 3
   },
   "file_extension": ".py",
   "mimetype": "text/x-python",
   "name": "python",
   "nbconvert_exporter": "python",
   "pygments_lexer": "ipython3",
   "version": "3.8.8"
  }
 },
 "nbformat": 4,
 "nbformat_minor": 5
}
