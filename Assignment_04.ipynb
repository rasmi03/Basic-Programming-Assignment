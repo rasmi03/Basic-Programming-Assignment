{
 "cells": [
  {
   "cell_type": "markdown",
   "id": "785ee633",
   "metadata": {},
   "source": [
    "### Q1. Factorial of a Number\n",
    "\n"
   ]
  },
  {
   "cell_type": "code",
   "execution_count": 1,
   "id": "a8731f94",
   "metadata": {},
   "outputs": [
    {
     "name": "stdout",
     "output_type": "stream",
     "text": [
      "6\n",
      "\n",
      "Factorial of 6 = 720\n"
     ]
    }
   ],
   "source": [
    "num = int(input())\n",
    "fact = 1\n",
    "i = 1\n",
    "while i<=num:\n",
    "    fact = fact*i\n",
    "    i = i+1\n",
    "\n",
    "print(\"\\nFactorial of\", num, \"=\", fact)"
   ]
  },
  {
   "cell_type": "markdown",
   "id": "7188fe6d",
   "metadata": {},
   "source": [
    "### Q2. Display the multiplication Table?"
   ]
  },
  {
   "cell_type": "code",
   "execution_count": 7,
   "id": "9ad52e30",
   "metadata": {},
   "outputs": [
    {
     "name": "stdout",
     "output_type": "stream",
     "text": [
      "Enter a number 3\n",
      "\n",
      " Multiplication Table:\n",
      "3 X 0 = 3\n",
      "3 X 1 = 6\n",
      "3 X 2 = 9\n",
      "3 X 3 = 12\n",
      "3 X 4 = 15\n",
      "3 X 5 = 18\n",
      "3 X 6 = 21\n",
      "3 X 7 = 24\n",
      "3 X 8 = 27\n",
      "3 X 9 = 30\n"
     ]
    }
   ],
   "source": [
    "\n",
    "num = int(input(\"Enter a number \"))\n",
    "n = 1\n",
    "print(\"\\n Multiplication Table:\")\n",
    "for i in range(10):\n",
    "  mul = num*n\n",
    "  print(\"{} X {} = {}\".format(num,i,mul))\n",
    "  n = n+1"
   ]
  },
  {
   "cell_type": "markdown",
   "id": "0f50052f",
   "metadata": {},
   "source": [
    "### Q3. Fibonacci sequence"
   ]
  },
  {
   "cell_type": "code",
   "execution_count": 10,
   "id": "55cc803f",
   "metadata": {},
   "outputs": [
    {
     "name": "stdout",
     "output_type": "stream",
     "text": [
      "Enter desired length: 5\n",
      "Fibonacci Series:  0 1 1 2 3 "
     ]
    }
   ],
   "source": [
    "n = int(input(\"Enter desired length: \"))\n",
    "a = 0\n",
    "b = 1\n",
    "sum = 0\n",
    "count = 1\n",
    "print(\"Fibonacci Series: \", end = \" \")\n",
    "while(count <= n):\n",
    "    print(sum, end = \" \")\n",
    "    count += 1\n",
    "    a = b\n",
    "    b = sum\n",
    "    sum = a + b\n",
    "      "
   ]
  },
  {
   "cell_type": "markdown",
   "id": "ea36d6b6",
   "metadata": {},
   "source": [
    "### Q4. Check Armstrong Number"
   ]
  },
  {
   "cell_type": "code",
   "execution_count": 11,
   "id": "9416b0ad",
   "metadata": {},
   "outputs": [
    {
     "name": "stdout",
     "output_type": "stream",
     "text": [
      "Enter number to check: 371\n",
      "its armstrong number\n"
     ]
    }
   ],
   "source": [
    "num = int(input(\"Enter number to check: \"))\n",
    "rem = 0\n",
    "sum = 0\n",
    "temp = num\n",
    "while temp>0:\n",
    "    rem = temp%10\n",
    "    sum = sum + rem**3\n",
    "    temp = temp//10\n",
    "if num==sum:\n",
    "    print(\"its armstrong number\")\n",
    "else:\n",
    "    print(\"not armstrong number\")"
   ]
  },
  {
   "cell_type": "markdown",
   "id": "3a06e445",
   "metadata": {},
   "source": [
    "### Q5. Find the Sum of Natural Numbers"
   ]
  },
  {
   "cell_type": "code",
   "execution_count": 15,
   "id": "fa1ffb4e",
   "metadata": {},
   "outputs": [
    {
     "name": "stdout",
     "output_type": "stream",
     "text": [
      "Enter a number  5\n",
      "\n",
      "Sum of natural number = 15\n"
     ]
    }
   ],
   "source": [
    "n = int(input(\"Enter a number  \"))\n",
    "\n",
    "sum = 0\n",
    "i = 1\n",
    "while i<=n:\n",
    "  sum = sum+i\n",
    "  i = i+1\n",
    "\n",
    "print(\"\\nSum of natural number =\", sum)"
   ]
  },
  {
   "cell_type": "markdown",
   "id": "313c9c78",
   "metadata": {},
   "source": [
    "### Q5. Armstrong Number in an Interval?"
   ]
  },
  {
   "cell_type": "code",
   "execution_count": 16,
   "id": "1374b3dd",
   "metadata": {},
   "outputs": [
    {
     "name": "stdout",
     "output_type": "stream",
     "text": [
      "Enter lower range: 100\n",
      "Enter upper range: 1000\n",
      "125\n",
      "153\n",
      "216\n",
      "370\n",
      "371\n",
      "407\n",
      "729\n"
     ]
    }
   ],
   "source": [
    "lower = int(input(\"Enter lower range: \"))  \n",
    "upper = int(input(\"Enter upper range: \"))  \n",
    "  \n",
    "for num in range(lower,upper + 1):  \n",
    "   sum = 0  \n",
    "   temp = num  \n",
    "   while temp > 0:  \n",
    "       digit = temp % 10  \n",
    "       sum += digit ** 3  \n",
    "       temp //= 10  \n",
    "       if num == sum:  \n",
    "            print(num)  "
   ]
  },
  {
   "cell_type": "code",
   "execution_count": null,
   "id": "0c643f35",
   "metadata": {},
   "outputs": [],
   "source": []
  }
 ],
 "metadata": {
  "kernelspec": {
   "display_name": "Python 3",
   "language": "python",
   "name": "python3"
  },
  "language_info": {
   "codemirror_mode": {
    "name": "ipython",
    "version": 3
   },
   "file_extension": ".py",
   "mimetype": "text/x-python",
   "name": "python",
   "nbconvert_exporter": "python",
   "pygments_lexer": "ipython3",
   "version": "3.8.8"
  }
 },
 "nbformat": 4,
 "nbformat_minor": 5
}
