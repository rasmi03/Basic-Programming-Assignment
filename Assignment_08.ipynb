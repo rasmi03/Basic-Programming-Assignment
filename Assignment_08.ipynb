{
 "cells": [
  {
   "cell_type": "markdown",
   "id": "52c236de",
   "metadata": {},
   "source": [
    "### 1. Write a Python Program to Add Two Matrices?"
   ]
  },
  {
   "cell_type": "code",
   "execution_count": 3,
   "id": "983ada5c",
   "metadata": {},
   "outputs": [],
   "source": [
    "def addMatrices(a,b):\n",
    "    print(f'Inputs: {a},{b}')\n",
    "    if len(a) == len(b):\n",
    "        out_matrix = []\n",
    "        for i in range(len(a)):\n",
    "            if len(a[i]) == len(b[i]):\n",
    "                out_matrix.append([])\n",
    "                for j in range(len(a[i])):\n",
    "                    out_matrix[i].append(a[i][j]+b[i][j])\n",
    "            else:\n",
    "                print('Both Matrices must contains same no of rows and columns') \n",
    "    else:\n",
    "        print('Both Matrices must contains same no of rows and columns')\n",
    "    print(f'Output: {out_matrix}')"
   ]
  },
  {
   "cell_type": "code",
   "execution_count": 4,
   "id": "cd705d67",
   "metadata": {},
   "outputs": [
    {
     "name": "stdout",
     "output_type": "stream",
     "text": [
      "Inputs: [[5, 8, 3], [4, 7, 6], [1, 8, 9]],[[10, 8, 7], [6, 5, 4], [3, 2, 1]]\n",
      "Output: [[15, 16, 10], [10, 12, 10], [4, 10, 10]]\n",
      "Inputs: [[2, 22, 5], [3, 21, 1], [2, 2, 2]],[[4, 3, 5], [1, 2, 3], [3, 2, 1]]\n",
      "Output: [[6, 25, 10], [4, 23, 4], [5, 4, 3]]\n"
     ]
    }
   ],
   "source": [
    "addMatrices([[5,8,3],[4,7,6],[1,8,9]],[[10,8,7],[6,5,4],[3,2,1]])\n",
    "addMatrices([[2,22,5],[3,21,1],[2,2,2]],[[4,3,5],[1,2,3],[3,2,1]])"
   ]
  },
  {
   "cell_type": "markdown",
   "id": "c25815e1",
   "metadata": {},
   "source": [
    "### 2. Write a Python Program to Multiply two Matrices ?"
   ]
  },
  {
   "cell_type": "code",
   "execution_count": 1,
   "id": "3fb6da04",
   "metadata": {},
   "outputs": [
    {
     "name": "stdout",
     "output_type": "stream",
     "text": [
      "[[53, 82, 127], [44, 81, 108], [80, 140, 194]]\n"
     ]
    }
   ],
   "source": [
    "a = [[12,2,3],[2,5,6],[7,8,9]]\n",
    "b = [[3,4,7],[4,5,8],[3,8,9]]\n",
    "\n",
    "def multiply_matrice(a,b):\n",
    "    output = []\n",
    "    if len(a[0]) == len(b):\n",
    "        for l in range(len(a[0])):\n",
    "            output.append([0 for l in range(len(b[0]))])\n",
    "        for i in range(len(a)):\n",
    "            for j in range(len(b[0])):\n",
    "                for k in range(len(b)):\n",
    "                    output[i][j] += a[i][k]*b[k][j]\n",
    "        print(output)     \n",
    "    else:\n",
    "        print('Matrix Multiplication is Not Possible')\n",
    "        \n",
    "multiply_matrice(a,b)"
   ]
  },
  {
   "cell_type": "markdown",
   "id": "69cdd5e7",
   "metadata": {},
   "source": [
    "### 3. Write a Python Program to transpose a Matrix ?"
   ]
  },
  {
   "cell_type": "code",
   "execution_count": 4,
   "id": "b73a7028",
   "metadata": {},
   "outputs": [
    {
     "name": "stdout",
     "output_type": "stream",
     "text": [
      "[[1, 4, 7], [2, 5, 8]]\n"
     ]
    }
   ],
   "source": [
    "A = [[1,2],\n",
    "     [4,5],\n",
    "     [7,8]]\n",
    "C = [[0,0,0],\n",
    "     [0,0,0]]\n",
    "     \n",
    "for i in range(len(A)):\n",
    "    for j in range(len(A[0])):\n",
    "        C[j][i] = A[i][j]\n",
    "print(C)\n"
   ]
  },
  {
   "cell_type": "markdown",
   "id": "5fce3346",
   "metadata": {},
   "source": [
    "### 4. Write a Python Program to Sort Words in Alphabetic Order?"
   ]
  },
  {
   "cell_type": "code",
   "execution_count": 5,
   "id": "c1728b47",
   "metadata": {},
   "outputs": [
    {
     "name": "stdout",
     "output_type": "stream",
     "text": [
      "Enter a String: full stack data science  Ineuron\n",
      " Data Full Ineuron Science Stack\n"
     ]
    }
   ],
   "source": [
    "def sortString():\n",
    "    in_string = input(\"Enter a String: \").title()\n",
    "    sorted_list = sorted(in_string.split(' '))\n",
    "    print(' '.join(sorted_list))\n",
    "\n",
    "sortString()"
   ]
  },
  {
   "cell_type": "markdown",
   "id": "91b0c837",
   "metadata": {},
   "source": [
    "### 5. Write a Python Program to remove Punctuations From a String ?"
   ]
  },
  {
   "cell_type": "code",
   "execution_count": 7,
   "id": "be06a736",
   "metadata": {},
   "outputs": [
    {
     "name": "stdout",
     "output_type": "stream",
     "text": [
      "Enter String with panctuation mark: Ineuron @@ full''' stack\n",
      "after clearing  panctuation:  Ineuron  full stack\n"
     ]
    }
   ],
   "source": [
    "punctuation = '''''!()-[]{};:'\"\\,<>./?@#$%^&*_~''' \n",
    "a = input(\"Enter String with panctuation mark: \")\n",
    "\n",
    "cleared = \"\"\n",
    "\n",
    "for char in a:\n",
    "    if char not in punctuation:\n",
    "        cleared += char\n",
    "print(\"after clearing  panctuation: \",cleared)"
   ]
  },
  {
   "cell_type": "code",
   "execution_count": null,
   "id": "edf97d3f",
   "metadata": {},
   "outputs": [],
   "source": []
  }
 ],
 "metadata": {
  "kernelspec": {
   "display_name": "Python 3",
   "language": "python",
   "name": "python3"
  },
  "language_info": {
   "codemirror_mode": {
    "name": "ipython",
    "version": 3
   },
   "file_extension": ".py",
   "mimetype": "text/x-python",
   "name": "python",
   "nbconvert_exporter": "python",
   "pygments_lexer": "ipython3",
   "version": "3.8.8"
  }
 },
 "nbformat": 4,
 "nbformat_minor": 5
}
