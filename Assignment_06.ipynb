{
 "cells": [
  {
   "cell_type": "markdown",
   "id": "971b9919",
   "metadata": {},
   "source": [
    "### 1. Write a Python Program to Display Fibonacci Sequence Using Recursion?"
   ]
  },
  {
   "cell_type": "code",
   "execution_count": 1,
   "id": "9f6a48fc",
   "metadata": {},
   "outputs": [
    {
     "name": "stdout",
     "output_type": "stream",
     "text": [
      "Enter desired length: 9\n"
     ]
    },
    {
     "data": {
      "text/plain": [
       "[0, 1, 1, 2, 3, 5, 8, 13, 21]"
      ]
     },
     "execution_count": 1,
     "metadata": {},
     "output_type": "execute_result"
    }
   ],
   "source": [
    "def fibo(num_1, num_2, n):\n",
    "    if n == 0:\n",
    "        return \"Recursion Ends\"\n",
    "    \n",
    "    sum = num_1 + num_2\n",
    "    fibo_list.append(sum)\n",
    "    fibo(num_2, sum, n-1)\n",
    "\n",
    "fibo_list = [0,1]\n",
    "n = int(input(\"Enter desired length: \"))\n",
    "\n",
    "fibo(fibo_list[0],fibo_list[1], n-2)\n",
    "fibo_list"
   ]
  },
  {
   "cell_type": "markdown",
   "id": "95efdaec",
   "metadata": {},
   "source": [
    "### 2.Write a Python Program to Find Factorial of Number Using Recursion?"
   ]
  },
  {
   "cell_type": "code",
   "execution_count": 5,
   "id": "350b04a0",
   "metadata": {},
   "outputs": [
    {
     "name": "stdout",
     "output_type": "stream",
     "text": [
      "Enter the number : 5\n",
      "Factorial of 5 : 120\n"
     ]
    }
   ],
   "source": [
    "def factorial(n):\n",
    "    if n == 1:\n",
    "        return n\n",
    "    else:\n",
    "        return n*factorial(n-1)\n",
    "\n",
    "num = int(input('Enter the number : '))\n",
    "\n",
    "# check if the number is negative\n",
    "if num < 0:\n",
    "    print(\"Factorial does not exist for negative numbers\")\n",
    "elif num == 0:\n",
    "    print(\"The factorial of 0 is 1\")\n",
    "else:\n",
    "    print(f\"Factorial of {num} : {factorial(num)}\")"
   ]
  },
  {
   "cell_type": "markdown",
   "id": "97ec88f1",
   "metadata": {},
   "source": [
    "### 3.Write a Python Program to calculate your Body Mass Index?"
   ]
  },
  {
   "cell_type": "code",
   "execution_count": 6,
   "id": "5f3f6078",
   "metadata": {},
   "outputs": [
    {
     "name": "stdout",
     "output_type": "stream",
     "text": [
      "Enter weight in kg: 71\n",
      "Enter height in m: 1.65\n",
      "Your body mass index is:  26.07897153351699\n",
      "overweight\n"
     ]
    }
   ],
   "source": [
    "def BMI(weight,height):\n",
    "    result = (weight/height**2)\n",
    "\n",
    "    print(\"Your body mass index is: \",result)\n",
    "    \n",
    "    if result>= 18.5 and result<=24.9:\n",
    "        print(\"Healthy Range\")\n",
    "    elif result<18.5:\n",
    "        print(\"Underweight\")\n",
    "    else:\n",
    "        print(\"overweight\")\n",
    "    \n",
    "weight = float(input(\"Enter weight in kg: \"))\n",
    "height = float(input(\"Enter height in m: \"))\n",
    "BMI(weight,height)\n"
   ]
  },
  {
   "cell_type": "markdown",
   "id": "5f661789",
   "metadata": {},
   "source": [
    "### 4.Write a Python Program to calculate the natural logarithm of any number?"
   ]
  },
  {
   "cell_type": "code",
   "execution_count": 7,
   "id": "3b68c181",
   "metadata": {},
   "outputs": [
    {
     "name": "stdout",
     "output_type": "stream",
     "text": [
      "Enter any number: 2\n",
      "0.6931471805599453\n"
     ]
    }
   ],
   "source": [
    "import math\n",
    "n = float(input(\"Enter any number: \"))\n",
    "print(math.log(n))\n"
   ]
  },
  {
   "cell_type": "markdown",
   "id": "bfffe10f",
   "metadata": {},
   "source": [
    "### 5.Write a Python Program for cube sum of first n natural numbers?"
   ]
  },
  {
   "cell_type": "code",
   "execution_count": 8,
   "id": "a479eb79",
   "metadata": {},
   "outputs": [],
   "source": [
    "def cube_sum(n):\n",
    "    result = 0\n",
    "    for i in range(1,n+1):\n",
    "        result = result+(i*i*i)\n",
    "    return result"
   ]
  },
  {
   "cell_type": "code",
   "execution_count": 9,
   "id": "489008e1",
   "metadata": {},
   "outputs": [
    {
     "name": "stdout",
     "output_type": "stream",
     "text": [
      "36\n"
     ]
    }
   ],
   "source": [
    "print(cube_sum(3))"
   ]
  },
  {
   "cell_type": "code",
   "execution_count": null,
   "id": "de677f06",
   "metadata": {},
   "outputs": [],
   "source": []
  }
 ],
 "metadata": {
  "kernelspec": {
   "display_name": "Python 3",
   "language": "python",
   "name": "python3"
  },
  "language_info": {
   "codemirror_mode": {
    "name": "ipython",
    "version": 3
   },
   "file_extension": ".py",
   "mimetype": "text/x-python",
   "name": "python",
   "nbconvert_exporter": "python",
   "pygments_lexer": "ipython3",
   "version": "3.8.8"
  }
 },
 "nbformat": 4,
 "nbformat_minor": 5
}
