{
 "cells": [
  {
   "cell_type": "markdown",
   "id": "b9eebea4",
   "metadata": {},
   "source": [
    "### 1. Write a Python program to Extract Unique values dictionary values?"
   ]
  },
  {
   "cell_type": "code",
   "execution_count": 3,
   "id": "23429ee8",
   "metadata": {},
   "outputs": [
    {
     "name": "stdout",
     "output_type": "stream",
     "text": [
      "['rasmi', 'rout', 'mitu']\n"
     ]
    }
   ],
   "source": [
    "d = {'423':'rasmi','4223':'rout','323':'rout','324':'mitu','325':'mitu'}\n",
    "l = []\n",
    "for val in d.values():\n",
    "    if val in l:\n",
    "        continue\n",
    "    else:\n",
    "        l.append(val)\n",
    "        \n",
    "print(l)   "
   ]
  },
  {
   "cell_type": "markdown",
   "id": "f5d370eb",
   "metadata": {},
   "source": [
    "### 2. Write a Python program to find the sum of all items in a dictionary?"
   ]
  },
  {
   "cell_type": "code",
   "execution_count": 5,
   "id": "42e8cfa9",
   "metadata": {},
   "outputs": [
    {
     "name": "stdout",
     "output_type": "stream",
     "text": [
      "665\n"
     ]
    }
   ],
   "source": [
    "d = {'a':[300,101],'b':[42,13],'c':[104,105]}\n",
    "l = []\n",
    "for i in d.values():\n",
    "    for j in i:\n",
    "        l.append(j)\n",
    "print(sum(l))"
   ]
  },
  {
   "cell_type": "markdown",
   "id": "cfa66f6a",
   "metadata": {},
   "source": [
    "### 3. Write a Python program to Merging two Dictionaries?"
   ]
  },
  {
   "cell_type": "code",
   "execution_count": 6,
   "id": "7aef95cb",
   "metadata": {},
   "outputs": [
    {
     "data": {
      "text/plain": [
       "{'d': 900, 'e': 50, 'f': 60, 'a': 150, 'b': 200, 'c': 100}"
      ]
     },
     "execution_count": 6,
     "metadata": {},
     "output_type": "execute_result"
    }
   ],
   "source": [
    "d1 = {'a':150,'b':200,'c':100}\n",
    "d2 = {'d':900,'e':50,'f':60}\n",
    "d2.update(d1)\n",
    "d2"
   ]
  },
  {
   "cell_type": "markdown",
   "id": "14971f2d",
   "metadata": {},
   "source": [
    "### 4. Write a Python program to convert key-values list to flat dictionary?"
   ]
  },
  {
   "cell_type": "code",
   "execution_count": 7,
   "id": "9950d9b6",
   "metadata": {},
   "outputs": [],
   "source": [
    "l = ['a',150,'b',20,'c',30,'d',40,'e',50,'f',60]\n",
    "l1= []\n",
    "l2= []\n",
    "for i in range(0,len(l),2):\n",
    "    l1.append(l[i])\n",
    "\n",
    "for j in range(1,len(l),2):\n",
    "    if j not in l1:\n",
    "        l2.append(l[j])"
   ]
  },
  {
   "cell_type": "code",
   "execution_count": 8,
   "id": "f7abfd7d",
   "metadata": {},
   "outputs": [
    {
     "name": "stdout",
     "output_type": "stream",
     "text": [
      "['a', 'b', 'c', 'd', 'e', 'f']\n"
     ]
    }
   ],
   "source": [
    "print(l1)"
   ]
  },
  {
   "cell_type": "code",
   "execution_count": 9,
   "id": "e4ad9b36",
   "metadata": {},
   "outputs": [
    {
     "name": "stdout",
     "output_type": "stream",
     "text": [
      "[150, 20, 30, 40, 50, 60]\n"
     ]
    }
   ],
   "source": [
    "print(l2)"
   ]
  },
  {
   "cell_type": "code",
   "execution_count": 10,
   "id": "54bc6082",
   "metadata": {},
   "outputs": [
    {
     "name": "stdout",
     "output_type": "stream",
     "text": [
      "List ['a', 150, 'b', 20, 'c', 30, 'd', 40, 'e', 50, 'f', 60] to \n",
      " Dictionary {'a': 150, 'b': 20, 'c': 30, 'd': 40, 'e': 50, 'f': 60}\n"
     ]
    }
   ],
   "source": [
    "d = dict(zip(l1,l2))\n",
    "print(\"List {} to \\n Dictionary {}\".format(l,d)) "
   ]
  },
  {
   "cell_type": "markdown",
   "id": "2082d190",
   "metadata": {},
   "source": [
    "### 5. Write a Python program to insertion at the beginning in OrderedDict?"
   ]
  },
  {
   "cell_type": "code",
   "execution_count": 11,
   "id": "bd544799",
   "metadata": {},
   "outputs": [
    {
     "name": "stdout",
     "output_type": "stream",
     "text": [
      "OrderedDict([('a', 150), ('b', 20), ('c', 30), ('d', 40), ('e', 50), ('f', 60)])\n",
      "OrderedDict([('a', 150), ('b', 20), ('c', 30), ('d', 40), ('e', 50), ('f', 60), ('g', 70)])\n",
      "OrderedDict([('g', 70), ('a', 150), ('b', 20), ('c', 30), ('d', 40), ('e', 50), ('f', 60)])\n"
     ]
    }
   ],
   "source": [
    "from collections import OrderedDict\n",
    "d = {'a': 150, 'b': 20, 'c': 30, 'd': 40, 'e': 50, 'f': 60}\n",
    "ord = OrderedDict(d)\n",
    "print(ord)\n",
    "ord['g'] = 70\n",
    "print(ord)\n",
    "ord.move_to_end('g', False)\n",
    "print(ord)"
   ]
  },
  {
   "cell_type": "markdown",
   "id": "0e33890d",
   "metadata": {},
   "source": [
    "### 6. Write a Python program to check order of character in string using OrderedDict()?"
   ]
  },
  {
   "cell_type": "code",
   "execution_count": 13,
   "id": "56d06a5d",
   "metadata": {},
   "outputs": [
    {
     "name": "stdout",
     "output_type": "stream",
     "text": [
      "{'a': 10, 'f': 20, 'd': 300, 'c': 400, 'b': 500, 'e': 600}\n",
      "OrderedDict([('a', 10), ('b', 500), ('c', 400), ('d', 300), ('e', 600), ('f', 20)])\n"
     ]
    }
   ],
   "source": [
    "unordered = {'a': 10, 'f': 20, 'd': 300, 'c': 400, 'b': 500, 'e': 600}\n",
    "print(unordered)\n",
    "ord = OrderedDict(sorted(unordered.items()))\n",
    "print(ord)"
   ]
  },
  {
   "cell_type": "markdown",
   "id": "6547628c",
   "metadata": {},
   "source": [
    "### 7. Write a Python program to sort Python Dictionaries by Key or Value?"
   ]
  },
  {
   "cell_type": "code",
   "execution_count": 14,
   "id": "4886b9c7",
   "metadata": {},
   "outputs": [
    {
     "name": "stdout",
     "output_type": "stream",
     "text": [
      "Sorted by key:  [('a', 1000), ('b', 500), ('c', 400), ('d', 300), ('e', 600), ('f', 200)]\n"
     ]
    }
   ],
   "source": [
    "d = {'a': 1000, 'f': 200, 'd': 300, 'c': 400, 'b': 500, 'e': 600}\n",
    "sort = sorted(d.items())\n",
    "\n",
    "print(\"Sorted by key: \",sort)"
   ]
  },
  {
   "cell_type": "code",
   "execution_count": null,
   "id": "71130379",
   "metadata": {},
   "outputs": [],
   "source": []
  }
 ],
 "metadata": {
  "kernelspec": {
   "display_name": "Python 3",
   "language": "python",
   "name": "python3"
  },
  "language_info": {
   "codemirror_mode": {
    "name": "ipython",
    "version": 3
   },
   "file_extension": ".py",
   "mimetype": "text/x-python",
   "name": "python",
   "nbconvert_exporter": "python",
   "pygments_lexer": "ipython3",
   "version": "3.8.8"
  }
 },
 "nbformat": 4,
 "nbformat_minor": 5
}
