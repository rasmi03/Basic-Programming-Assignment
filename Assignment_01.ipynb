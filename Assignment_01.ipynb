{
 "cells": [
  {
   "cell_type": "markdown",
   "id": "f40c7d84",
   "metadata": {},
   "source": [
    "### Q1-print \"Hello Python\"?"
   ]
  },
  {
   "cell_type": "code",
   "execution_count": 1,
   "id": "396de4af",
   "metadata": {},
   "outputs": [
    {
     "name": "stdout",
     "output_type": "stream",
     "text": [
      "Hello python\n"
     ]
    }
   ],
   "source": [
    "\n",
    "\n",
    "print(\"Hello python\")"
   ]
  },
  {
   "cell_type": "markdown",
   "id": "fd91fd77",
   "metadata": {},
   "source": [
    "### Q2-arithmetical operations addition and division.?"
   ]
  },
  {
   "cell_type": "code",
   "execution_count": 3,
   "id": "41c92e2e",
   "metadata": {},
   "outputs": [
    {
     "name": "stdout",
     "output_type": "stream",
     "text": [
      "Enter the number 5\n",
      "Enter the number 10\n",
      "Addition = 15 Division = 0\n"
     ]
    }
   ],
   "source": [
    "\n",
    "a=int(input(\"Enter the number \"))\n",
    "b=int(input(\"Enter the number \"))\n",
    "addition_res = a+b\n",
    "div_res = a//b\n",
    "print(\"Addition = {} Division = {}\".format(addition_res , div_res))"
   ]
  },
  {
   "cell_type": "markdown",
   "id": "dd4c5dbf",
   "metadata": {},
   "source": [
    "### Q3- find the area of a triangle?"
   ]
  },
  {
   "cell_type": "code",
   "execution_count": 4,
   "id": "21508334",
   "metadata": {},
   "outputs": [
    {
     "name": "stdout",
     "output_type": "stream",
     "text": [
      "Enter the base = 26\n",
      "Enter the height = 12\n",
      "Area of triangle = 156 \n"
     ]
    }
   ],
   "source": [
    "\n",
    "Base = float(input(\"Enter the base = \"))\n",
    "height = float(input(\"Enter the height = \"))\n",
    "Area_triangle = (height*Base)/2\n",
    "print(\"Area of triangle = {} \".format(int(Area_triangle)))"
   ]
  },
  {
   "cell_type": "markdown",
   "id": "30bf0be5",
   "metadata": {},
   "source": [
    "### Q4-swap two variables?"
   ]
  },
  {
   "cell_type": "code",
   "execution_count": 1,
   "id": "03eb5c7e",
   "metadata": {},
   "outputs": [
    {
     "name": "stdout",
     "output_type": "stream",
     "text": [
      "Enter 1st number : 23\n",
      "Enter 2nd number : 35\n",
      "Before Swap :\n",
      "first_var: 23\n",
      "second_var: 35 \n",
      "After Swap :\n",
      "first_var: 35\n",
      "second_var: 23 \n"
     ]
    }
   ],
   "source": [
    "\n",
    "first_var = int(input(\"Enter 1st number : \"))\n",
    "second_var = int(input(\"Enter 2nd number : \"))\n",
    "print(\"Before Swap :\\nfirst_var: {}\\nsecond_var: {} \".format(first_var , second_var))\n",
    "first_var,second_var=second_var,first_var\n",
    "print(\"After Swap :\\nfirst_var: {}\\nsecond_var: {} \".format(first_var , second_var))"
   ]
  },
  {
   "cell_type": "markdown",
   "id": "5bdc1178",
   "metadata": {},
   "source": [
    "### Q5-generate a random number?"
   ]
  },
  {
   "cell_type": "code",
   "execution_count": 3,
   "id": "45421741",
   "metadata": {},
   "outputs": [
    {
     "name": "stdout",
     "output_type": "stream",
     "text": [
      "Enter Min number : 23\n",
      "Enter Max number : 36\n",
      "26\n"
     ]
    }
   ],
   "source": [
    "\n",
    "import random\n",
    "a=int(input(\"Enter Min number : \"))\n",
    "b=int(input(\"Enter Max number : \"))\n",
    "print(random.randint(a,b))"
   ]
  }
 ],
 "metadata": {
  "kernelspec": {
   "display_name": "Python 3",
   "language": "python",
   "name": "python3"
  },
  "language_info": {
   "codemirror_mode": {
    "name": "ipython",
    "version": 3
   },
   "file_extension": ".py",
   "mimetype": "text/x-python",
   "name": "python",
   "nbconvert_exporter": "python",
   "pygments_lexer": "ipython3",
   "version": "3.8.8"
  }
 },
 "nbformat": 4,
 "nbformat_minor": 5
}
