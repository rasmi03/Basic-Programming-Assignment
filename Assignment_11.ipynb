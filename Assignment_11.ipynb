{
 "cells": [
  {
   "cell_type": "markdown",
   "id": "049a6cb3",
   "metadata": {},
   "source": [
    "### 1. Write a Python program to find words which are greater than given length k?"
   ]
  },
  {
   "cell_type": "code",
   "execution_count": 1,
   "id": "6b20d40a",
   "metadata": {},
   "outputs": [],
   "source": [
    "def greaterthan(sentense):\n",
    "    words = []\n",
    "    split = sentense.split(\" \")\n",
    "    print(split)\n",
    "    k = int(input(\"Enter length: \"))\n",
    "    for i in split:\n",
    "        if len(i)>k:\n",
    "            words.append(i)\n",
    "    return words"
   ]
  },
  {
   "cell_type": "code",
   "execution_count": 2,
   "id": "6e145411",
   "metadata": {},
   "outputs": [
    {
     "name": "stdout",
     "output_type": "stream",
     "text": [
      "['Good', 'morning', 'how', 'are', 'you']\n",
      "Enter length: 4\n"
     ]
    },
    {
     "data": {
      "text/plain": [
       "['morning']"
      ]
     },
     "execution_count": 2,
     "metadata": {},
     "output_type": "execute_result"
    }
   ],
   "source": [
    "greaterthan(\"Good morning how are you\")"
   ]
  },
  {
   "cell_type": "markdown",
   "id": "9f77ce01",
   "metadata": {},
   "source": [
    "### 2. Write a Python program for removing i-th character from a string?"
   ]
  },
  {
   "cell_type": "code",
   "execution_count": 3,
   "id": "863c4496",
   "metadata": {},
   "outputs": [],
   "source": [
    "def remove_char(sentense):\n",
    "    split = sentense.split(\" \")\n",
    "    i_th = int(input(\"Enter position: \"))\n",
    "    for i in split:\n",
    "        if split[i_th]==i:\n",
    "            split.remove(i)\n",
    "    sentense = \" \".join(split)\n",
    "    return sentense"
   ]
  },
  {
   "cell_type": "code",
   "execution_count": 4,
   "id": "ece0030f",
   "metadata": {},
   "outputs": [
    {
     "name": "stdout",
     "output_type": "stream",
     "text": [
      "Enter position: 3\n"
     ]
    },
    {
     "data": {
      "text/plain": [
       "'Good morning how you'"
      ]
     },
     "execution_count": 4,
     "metadata": {},
     "output_type": "execute_result"
    }
   ],
   "source": [
    "remove_char(\"Good morning how are you\")"
   ]
  },
  {
   "cell_type": "markdown",
   "id": "810575dd",
   "metadata": {},
   "source": [
    "### 3. Write a Python program to split and join a string?"
   ]
  },
  {
   "cell_type": "code",
   "execution_count": 5,
   "id": "37d96e28",
   "metadata": {},
   "outputs": [
    {
     "name": "stdout",
     "output_type": "stream",
     "text": [
      "Enter the string: Ineuron Full Stack Data Science is a fantastic Course\n",
      "Split String: ['Ineuron', 'Full', 'Stack', 'Data', 'Science', 'is', 'a', 'fantastic', 'Course']\n",
      "Join String: Ineuron Full Stack Data Science is a fantastic Course\n"
     ]
    }
   ],
   "source": [
    "def splitJoinString():\n",
    "    in_string = input('Enter the string: ')\n",
    "    print(f\"Split String: {in_string.split(' ')}\")\n",
    "    print(f\"Join String: {' '.join(in_string.split(' '))}\")\n",
    "\n",
    "splitJoinString()"
   ]
  },
  {
   "cell_type": "markdown",
   "id": "48362331",
   "metadata": {},
   "source": [
    "### 4. Write a Python to check if a given string is binary string or not?"
   ]
  },
  {
   "cell_type": "code",
   "execution_count": 6,
   "id": "e3b6c55e",
   "metadata": {},
   "outputs": [
    {
     "name": "stdout",
     "output_type": "stream",
     "text": [
      "Enter the string: 8597\n",
      "8597 is not a binary string\n",
      "Enter the string: 0100101\n",
      "0100101 is a binary string\n"
     ]
    }
   ],
   "source": [
    "def checkBinary():\n",
    "    in_string = input('Enter the string: ')\n",
    "    stun = 0\n",
    "    for ele in in_string:\n",
    "        if ele in ['0','1']:\n",
    "            stun = 1\n",
    "            continue\n",
    "        else:\n",
    "            stun = 0\n",
    "            break\n",
    "    statement = 'is a binary string' if stun == 1 else 'is not a binary string' \n",
    "    print(f'{in_string} {statement}')\n",
    "\n",
    "checkBinary()\n",
    "checkBinary()"
   ]
  },
  {
   "cell_type": "markdown",
   "id": "36b77600",
   "metadata": {},
   "source": [
    "### 5. Write a Python program to find uncommon words from two Strings?"
   ]
  },
  {
   "cell_type": "code",
   "execution_count": 7,
   "id": "74d824f6",
   "metadata": {},
   "outputs": [
    {
     "name": "stdout",
     "output_type": "stream",
     "text": [
      "Enter the String 1: rasmi\n",
      "Enter the String 2: rout\n",
      "{'rasmi', 'rout'}\n"
     ]
    }
   ],
   "source": [
    "def unCommonWords():\n",
    "    in_string_1 = set(input(\"Enter the String 1: \").split(' '))\n",
    "    in_string_2 = set(input(\"Enter the String 2: \").split(' '))\n",
    "    out_string = (in_string_1.union(in_string_2)).difference(in_string_1.intersection(in_string_2))\n",
    "    print(out_string)\n",
    "\n",
    "unCommonWords()"
   ]
  },
  {
   "cell_type": "markdown",
   "id": "d2db70e4",
   "metadata": {},
   "source": [
    "### 6. Write a Python to find all duplicate characters in string?"
   ]
  },
  {
   "cell_type": "code",
   "execution_count": 8,
   "id": "65366459",
   "metadata": {},
   "outputs": [
    {
     "name": "stdout",
     "output_type": "stream",
     "text": [
      "Enter string:  rasmirout\n",
      "Duplicate characters are:  ['r']\n"
     ]
    }
   ],
   "source": [
    "string = str(input(\"Enter string:  \"))\n",
    "char = []\n",
    "duplicate = []\n",
    "for i in string:\n",
    "    if i  not in char:\n",
    "        char.append(i)\n",
    "    else:\n",
    "        duplicate.append(i)\n",
    "print(\"Duplicate characters are: \" ,duplicate)\n",
    "\n"
   ]
  },
  {
   "cell_type": "markdown",
   "id": "f23fa8ac",
   "metadata": {},
   "source": [
    "### 7. Write a Python Program to check if a string contains any special character?"
   ]
  },
  {
   "cell_type": "code",
   "execution_count": 9,
   "id": "aae686fc",
   "metadata": {},
   "outputs": [
    {
     "name": "stdout",
     "output_type": "stream",
     "text": [
      "Enter string: good@#mor#ning\n",
      "Special Char @ found in given string\n",
      "Special Char # found in given string\n",
      "Special Char # found in given string\n"
     ]
    }
   ],
   "source": [
    "spl_char = '[@_!#$%^&*()<>?/\\|}{~:]'\n",
    "string = str(input(\"Enter string: \"))\n",
    "\n",
    "for i in string:\n",
    "    if i not in spl_char:\n",
    "        continue\n",
    "        \n",
    "    else:\n",
    "        print(\"Special Char {} found in given string\".format(i))"
   ]
  },
  {
   "cell_type": "code",
   "execution_count": null,
   "id": "38d78f4c",
   "metadata": {},
   "outputs": [],
   "source": []
  }
 ],
 "metadata": {
  "kernelspec": {
   "display_name": "Python 3",
   "language": "python",
   "name": "python3"
  },
  "language_info": {
   "codemirror_mode": {
    "name": "ipython",
    "version": 3
   },
   "file_extension": ".py",
   "mimetype": "text/x-python",
   "name": "python",
   "nbconvert_exporter": "python",
   "pygments_lexer": "ipython3",
   "version": "3.8.8"
  }
 },
 "nbformat": 4,
 "nbformat_minor": 5
}
