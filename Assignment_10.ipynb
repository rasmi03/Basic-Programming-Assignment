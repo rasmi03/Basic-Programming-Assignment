{
 "cells": [
  {
   "cell_type": "markdown",
   "id": "62ed3273",
   "metadata": {},
   "source": [
    "### 1.Write a Python Program to find sum of elements in a list ?"
   ]
  },
  {
   "cell_type": "code",
   "execution_count": 1,
   "id": "53d71b0a",
   "metadata": {},
   "outputs": [
    {
     "name": "stdout",
     "output_type": "stream",
     "text": [
      "27\n"
     ]
    }
   ],
   "source": [
    "l = [3,2,7,4,5,6]\n",
    "sum = 0\n",
    "for i in l:\n",
    "    sum = sum+i\n",
    "print(sum)"
   ]
  },
  {
   "cell_type": "markdown",
   "id": "70850814",
   "metadata": {},
   "source": [
    "### 2. Write a Python program to Multiply all numbers in the list?"
   ]
  },
  {
   "cell_type": "code",
   "execution_count": 2,
   "id": "7356437c",
   "metadata": {},
   "outputs": [
    {
     "name": "stdout",
     "output_type": "stream",
     "text": [
      "22680\n"
     ]
    }
   ],
   "source": [
    "l = [3,9,7,4,5,6]\n",
    "m = 1\n",
    "for i in l:\n",
    "    m = m*i\n",
    "print(m)"
   ]
  },
  {
   "cell_type": "markdown",
   "id": "1364a771",
   "metadata": {},
   "source": [
    "### 3. Write a Python program to find smallest number in a list?"
   ]
  },
  {
   "cell_type": "code",
   "execution_count": 2,
   "id": "f77f2f00",
   "metadata": {},
   "outputs": [
    {
     "name": "stdout",
     "output_type": "stream",
     "text": [
      "Enter the No of elements in a list: 3\n",
      "Enter a Element: 23\n",
      "Enter a Element: 35\n",
      "Enter a Element: 2\n",
      "The Smallest Element in [23, 35, 2] is 2\n"
     ]
    }
   ],
   "source": [
    "def smallEleInList():\n",
    "    lenth = int(input('Enter the No of elements in a list: '))\n",
    "    list = []\n",
    "    for i in range(lenth):\n",
    "        list.append(int(input('Enter a Element: ')))\n",
    "    print(f'The Smallest Element in {list} is {sorted(list)[0]}')\n",
    "smallEleInList()"
   ]
  },
  {
   "cell_type": "markdown",
   "id": "5a102eed",
   "metadata": {},
   "source": [
    "### 4.Write a Python Program to find largest number in the list ?"
   ]
  },
  {
   "cell_type": "code",
   "execution_count": 3,
   "id": "246806af",
   "metadata": {},
   "outputs": [
    {
     "name": "stdout",
     "output_type": "stream",
     "text": [
      "Enter the No of elements in a list: 3\n",
      "Enter a Element: 23\n",
      "Enter a Element: 35\n",
      "Enter a Element: 2\n",
      "The Smallest Element in [23, 35, 2] is 35\n"
     ]
    }
   ],
   "source": [
    "def smallEleInList():\n",
    "    lenth = int(input('Enter the No of elements in a list: '))\n",
    "    list = []\n",
    "    for i in range(lenth):\n",
    "        list.append(int(input('Enter a Element: ')))\n",
    "    print(f'The Smallest Element in {list} is {sorted(list, reverse=True)[0]}')\n",
    "smallEleInList()"
   ]
  },
  {
   "cell_type": "markdown",
   "id": "9e38f8c4",
   "metadata": {},
   "source": [
    "### 5.Write a Python Program to find second largest number in the list ?"
   ]
  },
  {
   "cell_type": "code",
   "execution_count": 7,
   "id": "81b16103",
   "metadata": {},
   "outputs": [
    {
     "name": "stdout",
     "output_type": "stream",
     "text": [
      "Enter the No of elements in a list: 4\n",
      "Enter a Element: 5\n",
      "Enter a Element: 8\n",
      "Enter a Element: 32\n",
      "Enter a Element: 21\n",
      "The 2nd largest Element in [5, 8, 32, 21] is 21\n"
     ]
    }
   ],
   "source": [
    "def smallEleInList():\n",
    "    lenth = int(input('Enter the No of elements in a list: '))\n",
    "    list = []\n",
    "    for i in range(lenth):\n",
    "        list.append(int(input('Enter a Element: ')))\n",
    "    print(f'The 2nd largest Element in {list} is {sorted(list, reverse=True)[1]}')\n",
    "smallEleInList()"
   ]
  },
  {
   "cell_type": "markdown",
   "id": "712e53c1",
   "metadata": {},
   "source": [
    "### 6.Write a Python Program to find N largest elements in the list ?"
   ]
  },
  {
   "cell_type": "code",
   "execution_count": 8,
   "id": "944c29ca",
   "metadata": {},
   "outputs": [
    {
     "name": "stdout",
     "output_type": "stream",
     "text": [
      "Enter the No of elements in a list: 5\n",
      "Enter a Element: 23\n",
      "Enter a Element: 21\n",
      "Enter a Element: 5\n",
      "Enter a Element: 9\n",
      "Enter a Element: 8\n",
      "The N largest Element in [23, 21, 5, 9, 8] is [23, 21, 9, 8, 5]\n"
     ]
    }
   ],
   "source": [
    "def smallEleInList(N):\n",
    "    lenth = int(input('Enter the No of elements in a list: '))\n",
    "    list = []\n",
    "    for i in range(lenth):\n",
    "        list.append(int(input('Enter a Element: ')))\n",
    "    print(f'The N largest Element in {list} is {sorted(list, reverse=True)[0:N]}')\n",
    "smallEleInList(5)"
   ]
  },
  {
   "cell_type": "markdown",
   "id": "d07c4b5c",
   "metadata": {},
   "source": [
    "### 7. Write a Python program to print even numbers in a list?"
   ]
  },
  {
   "cell_type": "code",
   "execution_count": 5,
   "id": "157b9033",
   "metadata": {},
   "outputs": [
    {
     "name": "stdout",
     "output_type": "stream",
     "text": [
      "Enter the No of elements in a list: 6\n",
      "Enter a Element: 4\n",
      "Enter a Element: 8\n",
      "Enter a Element: 6\n",
      "Enter a Element: 7\n",
      "Enter a Element: 9\n",
      "Enter a Element: 2\n",
      "The Even Elements in [4, 8, 6, 7, 9, 2] are [4, 8, 6, 2]\n"
     ]
    }
   ],
   "source": [
    "def evenNoInList():\n",
    "    num = int(input('Enter the No of elements in a list: '))\n",
    "    list3 = []\n",
    "    even_list = []\n",
    "    for i in range(num):\n",
    "        list3.append(int(input('Enter a Element: ')))\n",
    "    for i in list3:\n",
    "        if i%2 == 0:\n",
    "            even_list.append(i)\n",
    "    print(f'The Even Elements in {list3} are {even_list}')\n",
    "\n",
    "evenNoInList()"
   ]
  },
  {
   "cell_type": "markdown",
   "id": "72565537",
   "metadata": {},
   "source": [
    "### 8.Write a Python Program to find odd numbers in the list ?"
   ]
  },
  {
   "cell_type": "code",
   "execution_count": 4,
   "id": "ce54a405",
   "metadata": {},
   "outputs": [
    {
     "name": "stdout",
     "output_type": "stream",
     "text": [
      "Enter the No of elements in a list: 6\n",
      "Enter a Element: 4\n",
      "Enter a Element: 8\n",
      "Enter a Element: 9\n",
      "Enter a Element: 7\n",
      "Enter a Element: 6\n",
      "Enter a Element: 2\n",
      "The Even Elements in [4, 8, 9, 7, 6, 2] are [9, 7]\n"
     ]
    }
   ],
   "source": [
    "def evenNoInList():\n",
    "    num = int(input('Enter the No of elements in a list: '))\n",
    "    list3 = []\n",
    "    odd_list = []\n",
    "    for i in range(num):\n",
    "        list3.append(int(input('Enter a Element: ')))\n",
    "    for i in list3:\n",
    "        if i%2 != 0:\n",
    "            odd_list.append(i)\n",
    "    print(f'The Even Elements in {list3} are {odd_list}')\n",
    "\n",
    "evenNoInList()"
   ]
  },
  {
   "cell_type": "markdown",
   "id": "a818cd20",
   "metadata": {},
   "source": [
    "### 9.Write a Python Program to remove empty list from list ?"
   ]
  },
  {
   "cell_type": "code",
   "execution_count": 6,
   "id": "330fd543",
   "metadata": {},
   "outputs": [
    {
     "name": "stdout",
     "output_type": "stream",
     "text": [
      "Enter all elements of the list: [1,2,5,4,45,[],3,5,65]\n",
      "There is an Empty list in [1, 2, 5, 4, 45, [], 3, 5, 65] at Position 5\n",
      "The List after removing [] is [1, 2, 5, 4, 45, 3, 5, 65]\n"
     ]
    }
   ],
   "source": [
    "def checkEmptyList():\n",
    "    l1 = eval(input('Enter all elements of the list: '))\n",
    "    if [] in l1:\n",
    "        print(f'There is an Empty list in {l1} at Position {l1.index([])}')\n",
    "        l1.remove([])\n",
    "        print(f'The List after removing [] is {l1}')\n",
    "    else:\n",
    "        print(f'There is no [] List in the list {l1}')\n",
    "        \n",
    "checkEmptyList()"
   ]
  },
  {
   "cell_type": "markdown",
   "id": "272d3a2a",
   "metadata": {},
   "source": [
    "### 10.Write a Python Program to Cloning or Copying a list ?"
   ]
  },
  {
   "cell_type": "code",
   "execution_count": 7,
   "id": "6bb76dc3",
   "metadata": {},
   "outputs": [
    {
     "name": "stdout",
     "output_type": "stream",
     "text": [
      "Enter a list[1,2,5,8,7,9,10]\n",
      "[1, 2, 5, 8, 7, 9, 10] 2407779390784\n",
      "[1, 2, 5, 8, 7, 9, 10] 2407779988544\n"
     ]
    }
   ],
   "source": [
    "import copy\n",
    "\n",
    "def cloneList():\n",
    "    lst = eval(input('Enter a list'))\n",
    "    print(lst, id(lst))\n",
    "    cloned_list = lst.copy()\n",
    "    print(cloned_list, id(cloned_list))\n",
    "\n",
    "cloneList()"
   ]
  },
  {
   "cell_type": "markdown",
   "id": "79bc30c3",
   "metadata": {},
   "source": [
    "### 11.Write a Python Program to count occurences of an element in a list ?"
   ]
  },
  {
   "cell_type": "code",
   "execution_count": 8,
   "id": "071290a2",
   "metadata": {},
   "outputs": [
    {
     "name": "stdout",
     "output_type": "stream",
     "text": [
      "Enter the elements of the list: [2,3,5,63,3,5,3,3,6,3,5]\n",
      "Enter the element to find: 3\n",
      "There are 5 occurences of 3 in [2, 3, 5, 63, 3, 5, 3, 3, 6, 3, 5]\n"
     ]
    }
   ],
   "source": [
    "def checkOccurence():\n",
    "    list0 = eval(input('Enter the elements of the list: '))\n",
    "    num1 = eval(input('Enter the element to find: '))\n",
    "    count = 0\n",
    "    if num1 in list0:\n",
    "        for i in list0:\n",
    "            if i == num1:\n",
    "                count = count+1\n",
    "    print(f'There are {count} occurences of {num1} in {list0}')\n",
    "    \n",
    "checkOccurence()"
   ]
  },
  {
   "cell_type": "code",
   "execution_count": null,
   "id": "68399388",
   "metadata": {},
   "outputs": [],
   "source": []
  }
 ],
 "metadata": {
  "kernelspec": {
   "display_name": "Python 3",
   "language": "python",
   "name": "python3"
  },
  "language_info": {
   "codemirror_mode": {
    "name": "ipython",
    "version": 3
   },
   "file_extension": ".py",
   "mimetype": "text/x-python",
   "name": "python",
   "nbconvert_exporter": "python",
   "pygments_lexer": "ipython3",
   "version": "3.8.8"
  }
 },
 "nbformat": 4,
 "nbformat_minor": 5
}
